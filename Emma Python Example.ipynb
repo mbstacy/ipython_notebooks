{
 "metadata": {
  "name": "",
  "signature": "sha256:5926370432baf31180b7325285e031c8c4a96d630659703fff5726fb71b8f953"
 },
 "nbformat": 3,
 "nbformat_minor": 0,
 "worksheets": [
  {
   "cells": [
    {
     "cell_type": "code",
     "collapsed": false,
     "input": [
      "from pandas import read_csv\n",
      "\n",
      "states= ['KS']\n",
      "\n",
      "for state in states:\n",
      "    filename=\"%s_NEW.csv\" % (state)\n",
      "    df=read_csv(filename,header=0) #,na_values=['\"'])"
     ],
     "language": "python",
     "metadata": {},
     "outputs": [],
     "prompt_number": 20
    },
    {
     "cell_type": "code",
     "collapsed": false,
     "input": [
      "import numpy as np\n",
      "df\n",
      "grouped = df.groupby(['SITE','LAT','LONG'])\n",
      "g1=grouped['PRECIP'].agg([np.min,np.mean,np.max,np.size,np.std])\n",
      "\n",
      "g1.to_csv('my_result.csv')\n"
     ],
     "language": "python",
     "metadata": {},
     "outputs": [],
     "prompt_number": 21
    },
    {
     "cell_type": "code",
     "collapsed": false,
     "input": [],
     "language": "python",
     "metadata": {},
     "outputs": []
    }
   ],
   "metadata": {}
  }
 ]
}