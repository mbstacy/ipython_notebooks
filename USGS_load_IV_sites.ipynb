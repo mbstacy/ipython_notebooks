{
 "metadata": {
  "name": "USGS_load_IV_sites"
 },
 "nbformat": 3,
 "nbformat_minor": 0,
 "worksheets": [
  {
   "cells": [
    {
     "cell_type": "code",
     "collapsed": false,
     "input": [
      "from cybercom.data.catalog import datacommons\n",
      "import urllib, json\n",
      "dcom= datacommons.toolkit('mstacy','oucybercom')\n",
      "doc=json.load(urllib.urlopen('http://waterservices.usgs.gov/nwis/iv/?format=json&stateCd=ok'))\n",
      "dcom.save('ows_iv',doc)\n",
      "print 'Done'"
     ],
     "language": "python",
     "metadata": {},
     "outputs": [
      {
       "output_type": "stream",
       "stream": "stdout",
       "text": [
        "Done\n"
       ]
      }
     ],
     "prompt_number": 4
    },
    {
     "cell_type": "code",
     "collapsed": false,
     "input": [],
     "language": "python",
     "metadata": {},
     "outputs": []
    }
   ],
   "metadata": {}
  }
 ]
}