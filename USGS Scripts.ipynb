{
 "metadata": {
  "name": ""
 },
 "nbformat": 3,
 "nbformat_minor": 0,
 "worksheets": [
  {
   "cells": [
    {
     "cell_type": "markdown",
     "metadata": {},
     "source": [
      "# USGS Scripts\n",
      "\n",
      "## Return Site information for sites located in Oklahoma\n",
      "\n",
      "[USGS URL generator Page](http://waterservices.usgs.gov/rest/Site-Test-Tool.html)"
     ]
    },
    {
     "cell_type": "code",
     "collapsed": false,
     "input": [
      "from cybercom.data.catalog import datacommons\n",
      "import urllib\n",
      "import xml.etree.ElementTree as xml\n",
      "dcom= datacommons.toolkit('mstacy','oucybercom')\n",
      "tree= xml.parse(urllib.urlopen('http://waterservices.usgs.gov/nwis/site/?format=mapper&stateCd=ok&siteOutput=expanded&seriesCatalogOutput=true&outputDataTypeCd=all'))\n",
      "rootElement = tree.getroot()\n",
      "for a in rootElement:\n",
      "    tag=('type',a.tag)\n",
      "    for site in a.findall('site'):\n",
      "        data=[tag]\n",
      "        for ab in site.items():\n",
      "            data.append(ab)\n",
      "        dcom.save('ows',dict(data),collection='Location')"
     ],
     "language": "python",
     "metadata": {},
     "outputs": [],
     "prompt_number": "*"
    },
    {
     "cell_type": "code",
     "collapsed": false,
     "input": [],
     "language": "python",
     "metadata": {},
     "outputs": []
    }
   ],
   "metadata": {}
  }
 ]
}