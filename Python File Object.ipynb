{
 "metadata": {
  "name": "Python File Object"
 },
 "nbformat": 3,
 "nbformat_minor": 0,
 "worksheets": [
  {
   "cells": [
    {
     "cell_type": "heading",
     "level": 1,
     "metadata": {},
     "source": [
      "Python File Object:"
     ]
    },
    {
     "cell_type": "heading",
     "level": 4,
     "metadata": {},
     "source": [
      "MCQ Exercise: 'grep' command"
     ]
    },
    {
     "cell_type": "raw",
     "metadata": {},
     "source": [
      "Given the following:\n",
      "filename.txt is located in the current working directory\n",
      "\n",
      "How would you open the file and append your name at the bottom."
     ]
    },
    {
     "cell_type": "code",
     "collapsed": false,
     "input": [
      "file = open('filename.txt','a+')\n"
     ],
     "language": "python",
     "metadata": {},
     "outputs": [],
     "prompt_number": 3
    },
    {
     "cell_type": "code",
     "collapsed": false,
     "input": [
      "file.write(\"This is going to be written at the bottom of the file\\n\")\n",
      "           "
     ],
     "language": "python",
     "metadata": {},
     "outputs": [],
     "prompt_number": 7
    },
    {
     "cell_type": "code",
     "collapsed": false,
     "input": [
      "file.seek(0)\n",
      "temp = file.readline()\n",
      "print (temp)"
     ],
     "language": "python",
     "metadata": {},
     "outputs": [
      {
       "output_type": "stream",
       "stream": "stdout",
       "text": [
        "THis is going to be written at the bottom of the fileWill this remove the initial lineThis is going to be written at the bottom of the file\n",
        "\n"
       ]
      }
     ],
     "prompt_number": 8
    },
    {
     "cell_type": "code",
     "collapsed": false,
     "input": [
      "file.seek(0)\n",
      "file.write(\"Will this remove the initial line\")\n",
      "file.seek(0)\n",
      "print(file.read())"
     ],
     "language": "python",
     "metadata": {},
     "outputs": [
      {
       "output_type": "stream",
       "stream": "stdout",
       "text": [
        "THis is going to be written at the bottom of the fileWill this remove the initial lineThis is going to be written at the bottom of the file\n",
        "Will this remove the initial line\n"
       ]
      }
     ],
     "prompt_number": 9
    },
    {
     "cell_type": "raw",
     "metadata": {},
     "source": [
      "How would you open a file named 'filename.txt' and write your name at the bottom of file?\n",
      "\n",
      "1.  f1 = open('filename.txt')\n",
      "    f1.write('Mark')\n",
      "2.  \n",
      "    \n",
      "   "
     ]
    }
   ],
   "metadata": {}
  }
 ]
}